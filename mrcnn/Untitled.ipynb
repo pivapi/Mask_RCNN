{
 "cells": [
  {
   "cell_type": "code",
   "execution_count": 1,
   "metadata": {},
   "outputs": [],
   "source": [
    "import numpy as np"
   ]
  },
  {
   "cell_type": "code",
   "execution_count": 2,
   "metadata": {},
   "outputs": [],
   "source": [
    "A = np.random.randn(2,  3, 5)"
   ]
  },
  {
   "cell_type": "code",
   "execution_count": 3,
   "metadata": {},
   "outputs": [],
   "source": [
    "B = A[:,::-1,...]"
   ]
  },
  {
   "cell_type": "code",
   "execution_count": 4,
   "metadata": {},
   "outputs": [
    {
     "data": {
      "text/plain": [
       "array([[[-0.79604888,  0.42679016,  0.84518503,  0.61907425,\n",
       "          0.53842677],\n",
       "        [-0.4915734 , -0.72411507, -1.44232187,  0.19382071,\n",
       "         -0.83160531],\n",
       "        [ 1.66422622, -0.18101241, -0.0464675 , -0.38344116,\n",
       "         -0.38931189]],\n",
       "\n",
       "       [[ 0.12828921, -0.08248162, -0.6993718 ,  0.37803428,\n",
       "          0.05601799],\n",
       "        [-1.02959087,  1.13462542, -0.51883609, -0.34111898,\n",
       "         -1.88326665],\n",
       "        [ 0.63052072,  0.13921039, -1.11604531, -0.20276004,\n",
       "          0.59844247]]])"
      ]
     },
     "execution_count": 4,
     "metadata": {},
     "output_type": "execute_result"
    }
   ],
   "source": [
    "B"
   ]
  },
  {
   "cell_type": "code",
   "execution_count": 5,
   "metadata": {},
   "outputs": [
    {
     "data": {
      "text/plain": [
       "array([[[ 1.66422622, -0.18101241, -0.0464675 , -0.38344116,\n",
       "         -0.38931189],\n",
       "        [-0.4915734 , -0.72411507, -1.44232187,  0.19382071,\n",
       "         -0.83160531],\n",
       "        [-0.79604888,  0.42679016,  0.84518503,  0.61907425,\n",
       "          0.53842677]],\n",
       "\n",
       "       [[ 0.63052072,  0.13921039, -1.11604531, -0.20276004,\n",
       "          0.59844247],\n",
       "        [-1.02959087,  1.13462542, -0.51883609, -0.34111898,\n",
       "         -1.88326665],\n",
       "        [ 0.12828921, -0.08248162, -0.6993718 ,  0.37803428,\n",
       "          0.05601799]]])"
      ]
     },
     "execution_count": 5,
     "metadata": {},
     "output_type": "execute_result"
    }
   ],
   "source": [
    "A"
   ]
  },
  {
   "cell_type": "code",
   "execution_count": 6,
   "metadata": {},
   "outputs": [],
   "source": [
    "C = A[:,::-1,:]"
   ]
  },
  {
   "cell_type": "code",
   "execution_count": 8,
   "metadata": {},
   "outputs": [
    {
     "data": {
      "text/plain": [
       "(2, 3, 5)"
      ]
     },
     "execution_count": 8,
     "metadata": {},
     "output_type": "execute_result"
    }
   ],
   "source": [
    "C.shape"
   ]
  },
  {
   "cell_type": "code",
   "execution_count": 9,
   "metadata": {},
   "outputs": [
    {
     "data": {
      "text/plain": [
       "(2, 3, 5)"
      ]
     },
     "execution_count": 9,
     "metadata": {},
     "output_type": "execute_result"
    }
   ],
   "source": [
    "B.shape"
   ]
  },
  {
   "cell_type": "code",
   "execution_count": 10,
   "metadata": {},
   "outputs": [
    {
     "data": {
      "text/plain": [
       "array([[[-0.79604888,  0.42679016,  0.84518503,  0.61907425,\n",
       "          0.53842677],\n",
       "        [-0.4915734 , -0.72411507, -1.44232187,  0.19382071,\n",
       "         -0.83160531],\n",
       "        [ 1.66422622, -0.18101241, -0.0464675 , -0.38344116,\n",
       "         -0.38931189]],\n",
       "\n",
       "       [[ 0.12828921, -0.08248162, -0.6993718 ,  0.37803428,\n",
       "          0.05601799],\n",
       "        [-1.02959087,  1.13462542, -0.51883609, -0.34111898,\n",
       "         -1.88326665],\n",
       "        [ 0.63052072,  0.13921039, -1.11604531, -0.20276004,\n",
       "          0.59844247]]])"
      ]
     },
     "execution_count": 10,
     "metadata": {},
     "output_type": "execute_result"
    }
   ],
   "source": [
    "C"
   ]
  },
  {
   "cell_type": "code",
   "execution_count": 11,
   "metadata": {},
   "outputs": [
    {
     "data": {
      "text/plain": [
       "True"
      ]
     },
     "execution_count": 11,
     "metadata": {},
     "output_type": "execute_result"
    }
   ],
   "source": [
    "np.all(B == C)"
   ]
  },
  {
   "cell_type": "code",
   "execution_count": 14,
   "metadata": {},
   "outputs": [
    {
     "data": {
      "text/plain": [
       "array([[[ 1.66422622, -0.18101241, -0.0464675 , -0.38344116,\n",
       "         -0.38931189],\n",
       "        [-0.4915734 , -0.72411507, -1.44232187,  0.19382071,\n",
       "         -0.83160531],\n",
       "        [-0.79604888,  0.42679016,  0.84518503,  0.61907425,\n",
       "          0.53842677]],\n",
       "\n",
       "       [[ 0.63052072,  0.13921039, -1.11604531, -0.20276004,\n",
       "          0.59844247],\n",
       "        [-1.02959087,  1.13462542, -0.51883609, -0.34111898,\n",
       "         -1.88326665],\n",
       "        [ 0.12828921, -0.08248162, -0.6993718 ,  0.37803428,\n",
       "          0.05601799]]])"
      ]
     },
     "execution_count": 14,
     "metadata": {},
     "output_type": "execute_result"
    }
   ],
   "source": [
    "A[:]"
   ]
  },
  {
   "cell_type": "code",
   "execution_count": null,
   "metadata": {},
   "outputs": [],
   "source": []
  }
 ],
 "metadata": {
  "kernelspec": {
   "display_name": "Python 3",
   "language": "python",
   "name": "python3"
  },
  "language_info": {
   "codemirror_mode": {
    "name": "ipython",
    "version": 3
   },
   "file_extension": ".py",
   "mimetype": "text/x-python",
   "name": "python",
   "nbconvert_exporter": "python",
   "pygments_lexer": "ipython3",
   "version": "3.5.2"
  }
 },
 "nbformat": 4,
 "nbformat_minor": 2
}
